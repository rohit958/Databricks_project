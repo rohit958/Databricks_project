{
 "cells": [
  {
   "cell_type": "code",
   "execution_count": 0,
   "metadata": {
    "application/vnd.databricks.v1+cell": {
     "cellMetadata": {
      "byteLimit": 2048000,
      "rowLimit": 10000
     },
     "inputWidgets": {},
     "nuid": "60c90fa9-fc5b-4a96-b706-3f890691be5f",
     "showTitle": false,
     "title": ""
    }
   },
   "outputs": [],
   "source": [
    "# ipmorting Libraries\n",
    "from pyspark.sql.functions import *\n",
    "import pandas as pd\n",
    "from pyspark.sql import window,Window\n",
    "window = Window.orderBy(\"subject\")"
   ]
  },
  {
   "cell_type": "code",
   "execution_count": 0,
   "metadata": {
    "application/vnd.databricks.v1+cell": {
     "cellMetadata": {
      "byteLimit": 2048000,
      "rowLimit": 10000
     },
     "inputWidgets": {},
     "nuid": "e12e7440-6952-48ca-913a-3012d11dae93",
     "showTitle": false,
     "title": ""
    }
   },
   "outputs": [],
   "source": [
    "#reading file\n",
    "df= spark.read.option(\"multiline\",\"true\").json(\"dbfs:/FileStore/JSON_files/example_2.json\")"
   ]
  },
  {
   "cell_type": "code",
   "execution_count": 0,
   "metadata": {
    "application/vnd.databricks.v1+cell": {
     "cellMetadata": {
      "byteLimit": 2048000,
      "rowLimit": 10000
     },
     "inputWidgets": {},
     "nuid": "2f7ef0a9-ce3b-45cc-8fd6-e43c76edc1e7",
     "showTitle": false,
     "title": ""
    }
   },
   "outputs": [
    {
     "output_type": "stream",
     "name": "stdout",
     "output_type": "stream",
     "text": [
      "root\n |-- quiz: struct (nullable = true)\n |    |-- maths: struct (nullable = true)\n |    |    |-- q1: struct (nullable = true)\n |    |    |    |-- answer: string (nullable = true)\n |    |    |    |-- options: array (nullable = true)\n |    |    |    |    |-- element: string (containsNull = true)\n |    |    |    |-- question: string (nullable = true)\n |    |    |-- q2: struct (nullable = true)\n |    |    |    |-- answer: string (nullable = true)\n |    |    |    |-- options: array (nullable = true)\n |    |    |    |    |-- element: string (containsNull = true)\n |    |    |    |-- question: string (nullable = true)\n |    |-- sport: struct (nullable = true)\n |    |    |-- q1: struct (nullable = true)\n |    |    |    |-- answer: string (nullable = true)\n |    |    |    |-- options: array (nullable = true)\n |    |    |    |    |-- element: string (containsNull = true)\n |    |    |    |-- question: string (nullable = true)\n\n"
     ]
    }
   ],
   "source": [
    "df.printSchema()"
   ]
  },
  {
   "cell_type": "code",
   "execution_count": 0,
   "metadata": {
    "application/vnd.databricks.v1+cell": {
     "cellMetadata": {
      "byteLimit": 2048000,
      "rowLimit": 10000
     },
     "inputWidgets": {},
     "nuid": "10c5674a-dc72-4316-9ee4-1790b4811807",
     "showTitle": false,
     "title": ""
    }
   },
   "outputs": [],
   "source": [
    "#extracting subject \n",
    "df1 =df.select(df[\"quiz.maths\"].alias(\"maths\"),df[\"quiz.sport\"].alias(\"sport\"))"
   ]
  },
  {
   "cell_type": "markdown",
   "metadata": {
    "application/vnd.databricks.v1+cell": {
     "cellMetadata": {
      "byteLimit": 2048000,
      "rowLimit": 10000
     },
     "inputWidgets": {},
     "nuid": "f45be238-de66-4aa0-98d1-bfa111b506ed",
     "showTitle": false,
     "title": ""
    }
   },
   "source": []
  },
  {
   "cell_type": "code",
   "execution_count": 0,
   "metadata": {
    "application/vnd.databricks.v1+cell": {
     "cellMetadata": {
      "byteLimit": 2048000,
      "rowLimit": 10000
     },
     "inputWidgets": {},
     "nuid": "4b61e2dd-1c28-4899-adf1-a727ed3a7bd5",
     "showTitle": false,
     "title": ""
    }
   },
   "outputs": [
    {
     "output_type": "stream",
     "name": "stdout",
     "output_type": "stream",
     "text": [
      "root\n |-- maths: struct (nullable = true)\n |    |-- q1: struct (nullable = true)\n |    |    |-- answer: string (nullable = true)\n |    |    |-- options: array (nullable = true)\n |    |    |    |-- element: string (containsNull = true)\n |    |    |-- question: string (nullable = true)\n |    |-- q2: struct (nullable = true)\n |    |    |-- answer: string (nullable = true)\n |    |    |-- options: array (nullable = true)\n |    |    |    |-- element: string (containsNull = true)\n |    |    |-- question: string (nullable = true)\n |-- sport: struct (nullable = true)\n |    |-- q1: struct (nullable = true)\n |    |    |-- answer: string (nullable = true)\n |    |    |-- options: array (nullable = true)\n |    |    |    |-- element: string (containsNull = true)\n |    |    |-- question: string (nullable = true)\n\n"
     ]
    }
   ],
   "source": [
    "df1.printSchema()"
   ]
  },
  {
   "cell_type": "code",
   "execution_count": 0,
   "metadata": {
    "application/vnd.databricks.v1+cell": {
     "cellMetadata": {
      "byteLimit": 2048000,
      "rowLimit": 10000
     },
     "inputWidgets": {},
     "nuid": "1af251f4-0f22-478d-a5cb-d7897d635411",
     "showTitle": false,
     "title": ""
    }
   },
   "outputs": [],
   "source": [
    "dfquestion=df1.select(df1[\"maths.q1.question\"].alias(\"question1\"),df1[\"maths.q2.question\"].alias(\"question2\"))\n",
    "#question"
   ]
  },
  {
   "cell_type": "code",
   "execution_count": 0,
   "metadata": {
    "application/vnd.databricks.v1+cell": {
     "cellMetadata": {
      "byteLimit": 2048000,
      "rowLimit": 10000
     },
     "inputWidgets": {},
     "nuid": "8e33c3c5-72d3-4909-8b78-3c97f5b953c0",
     "showTitle": false,
     "title": ""
    }
   },
   "outputs": [
    {
     "output_type": "stream",
     "name": "stdout",
     "output_type": "stream",
     "text": [
      "+---+-------+--------------------+\n|QNo|subject|            question|\n+---+-------+--------------------+\n|  1|  maths|           5 + 7 = ?|\n|  2|  maths|          12 - 8 = ?|\n|  3|  sport|Which one is corr...|\n+---+-------+--------------------+\n\n"
     ]
    }
   ],
   "source": [
    "\n",
    "#maths dataframe\n",
    "df2=df1.select(df1[\"maths.q1.question\"].alias(\"question\"))\n",
    "df2=df2.withColumn(\"subject\",lit(\"maths\"))\n",
    "df3=df1.select(df1[\"maths.q2.question\"].alias(\"question\"))\n",
    "df3=df3.withColumn(\"subject\",lit(\"maths\"))\n",
    "\n",
    "dfmaths=df2.union(df3)\n",
    "\n",
    "#sports daataframe\n",
    "dfsport=df1.select(df1[\"sport.q1.question\"].alias(\"question\"))\n",
    "dfsport=dfsport.withColumn(\"subject\",lit(\"sport\"))\n",
    "\n",
    "#question dataframe\n",
    "dfq=dfmaths.union(dfsport)\n",
    "dfq=dfq.withColumn(\"QNo\",lit(row_number().over(window)))\n",
    "colorder=[\"QNo\",\"subject\",\"question\"]\n",
    "dfquestion=dfq.select(*colorder)\n",
    "dfquestion.show()\n",
    "\n",
    "\n"
   ]
  },
  {
   "cell_type": "code",
   "execution_count": 0,
   "metadata": {
    "application/vnd.databricks.v1+cell": {
     "cellMetadata": {
      "byteLimit": 2048000,
      "rowLimit": 10000
     },
     "inputWidgets": {},
     "nuid": "30f3f57b-b950-475b-8a42-4306c4072ac4",
     "showTitle": false,
     "title": ""
    }
   },
   "outputs": [
    {
     "output_type": "stream",
     "name": "stdout",
     "output_type": "stream",
     "text": [
      "+--------------------+---+\n|             options|ONo|\n+--------------------+---+\n|        [1, 2, 3, 4]|  1|\n|    [10, 11, 12, 13]|  2|\n|[New York Bulls, ...|  3|\n+--------------------+---+\n\n"
     ]
    }
   ],
   "source": [
    "dfmaths=df1.select(df1[\"maths.q1.options\"].alias(\"options\"))\n",
    "dfmaths2=df1.select(df1[\"maths.q2.options\"].alias(\"options\"))\n",
    "dfsports=df1.select(df1[\"sport.q1.options\"].alias(\"options\"))\n",
    " \n",
    "\n",
    "#options dataframe\n",
    "dfOptions=dfmaths.union(dfmaths2).union(dfsports)\n",
    "dfOptions=dfOptions.withColumn(\"ONo\",row_number().over(Window.orderBy(\"options\")))\n",
    "dfOptions.show()  \n"
   ]
  },
  {
   "cell_type": "code",
   "execution_count": 0,
   "metadata": {
    "application/vnd.databricks.v1+cell": {
     "cellMetadata": {
      "byteLimit": 2048000,
      "rowLimit": 10000
     },
     "inputWidgets": {},
     "nuid": "3acb6289-d9d5-42a6-b587-97a8c331e826",
     "showTitle": false,
     "title": ""
    }
   },
   "outputs": [
    {
     "output_type": "stream",
     "name": "stdout",
     "output_type": "stream",
     "text": [
      "+-------------+---+\n|       answer|ANo|\n+-------------+---+\n|           12|  1|\n|            4|  2|\n|Huston Rocket|  3|\n+-------------+---+\n\n"
     ]
    }
   ],
   "source": [
    "# answers dataframe\n",
    "dfm1=df1.select(df1[\"maths.q1.answer\"].alias(\"answer\"))\n",
    "dfm1=dfm1.withColumn(\"ANo\",lit(\"1\"))\n",
    "\n",
    "dfm2=df1.select(df1[\"maths.q2.answer\"].alias(\"answer\"))\n",
    "dfm2=dfm2.withColumn(\"ANo\",lit(\"2\"))\n",
    "\n",
    "dfs=df1.select(df1[\"sport.q1.answer\"].alias(\"answer\"))\n",
    "dfs=dfs.withColumn(\"ANo\",lit(\"3\"))\n",
    "dfA=dfm1.union(dfm2).union(dfs)\n",
    "dfA.show()"
   ]
  },
  {
   "cell_type": "code",
   "execution_count": 0,
   "metadata": {
    "application/vnd.databricks.v1+cell": {
     "cellMetadata": {
      "byteLimit": 2048000,
      "rowLimit": 10000
     },
     "inputWidgets": {},
     "nuid": "d83415f2-67dd-4520-a05c-f69985566fe5",
     "showTitle": false,
     "title": ""
    }
   },
   "outputs": [
    {
     "output_type": "stream",
     "name": "stdout",
     "output_type": "stream",
     "text": [
      "+---+-------+--------------------+--------------+-----------------+--------------------+-------------+-------------+\n|QNo|subject|            question|             A|                B|                   C|            D|       answer|\n+---+-------+--------------------+--------------+-----------------+--------------------+-------------+-------------+\n|  1|  maths|           5 + 7 = ?|             1|                2|                   3|            4|           12|\n|  2|  maths|          12 - 8 = ?|            10|               11|                  12|           13|            4|\n|  3|  sport|Which one is corr...|New York Bulls|Los Angeles Kings|Golden State Warr...|Huston Rocket|Huston Rocket|\n+---+-------+--------------------+--------------+-----------------+--------------------+-------------+-------------+\n\n"
     ]
    }
   ],
   "source": [
    "dfFinal=dfquestion.join(dfOptions,dfquestion.QNo==dfOptions.ONo,\"inner\").join(dfA,dfquestion.QNo==dfA.ANo,\"inner\")\n",
    "\n",
    "FinalColumns=['QNo', 'subject', 'question','A','B','C','D', 'answer']\n",
    "dfFinal=dfFinal.select(*['QNo', 'subject', 'question', 'options', 'answer'])\n",
    "\n",
    "dfFinal=dfFinal.withColumn(\"A\",dfFinal.options[0])\\\n",
    "    .withColumn(\"B\",dfFinal.options[1])\\\n",
    "    .withColumn(\"C\",dfFinal.options[2])\\\n",
    "    .withColumn(\"D\",dfFinal.options[3])\n",
    "\n",
    "dfFinal=dfFinal.select(*FinalColumns)\n",
    "dfFinal.show()"
   ]
  },
  {
   "cell_type": "code",
   "execution_count": 0,
   "metadata": {
    "application/vnd.databricks.v1+cell": {
     "cellMetadata": {
      "byteLimit": 2048000,
      "rowLimit": 10000
     },
     "inputWidgets": {},
     "nuid": "b7135c2f-9501-4b8e-911a-da64c6b68200",
     "showTitle": false,
     "title": ""
    }
   },
   "outputs": [],
   "source": [
    "#writng File in CSV\n",
    "dfFinal.write.option(\"header\",True).csv(\"dbfs:/FileStore/output/FinaldataExam\")"
   ]
  },
  {
   "cell_type": "code",
   "execution_count": 0,
   "metadata": {
    "application/vnd.databricks.v1+cell": {
     "cellMetadata": {
      "byteLimit": 2048000,
      "rowLimit": 10000
     },
     "inputWidgets": {},
     "nuid": "33472c0a-a627-40d2-8252-2bff6a3f325d",
     "showTitle": false,
     "title": ""
    }
   },
   "outputs": [],
   "source": []
  }
 ],
 "metadata": {
  "application/vnd.databricks.v1+notebook": {
   "dashboards": [],
   "language": "python",
   "notebookMetadata": {
    "pythonIndentUnit": 4
   },
   "notebookName": "QuestionPaperJSON_to_CSV",
   "widgets": {}
  }
 },
 "nbformat": 4,
 "nbformat_minor": 0
}
